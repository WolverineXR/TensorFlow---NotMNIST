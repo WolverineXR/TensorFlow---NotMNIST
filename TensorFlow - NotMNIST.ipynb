{
 "cells": [
  {
   "cell_type": "code",
   "execution_count": 1,
   "metadata": {},
   "outputs": [],
   "source": [
    "import hashlib\n",
    "import os\n",
    "import pickle\n",
    "import numpy as np\n",
    "from PIL import Image\n",
    "from sklearn.model_selection import train_test_split\n",
    "from sklearn.preprocessing import LabelBinarizer\n",
    "from sklearn.utils import resample\n",
    "from tqdm import tqdm\n",
    "from zipfile import ZipFile\n",
    "import tensorflow as tf\n",
    "import math\n",
    "import matplotlib.pyplot as plt\n",
    "%matplotlib inline"
   ]
  },
  {
   "cell_type": "code",
   "execution_count": 2,
   "metadata": {},
   "outputs": [
    {
     "name": "stderr",
     "output_type": "stream",
     "text": [
      "100%|█████████████████████████████████████████████████████████████████████| 210001/210001 [00:34<00:00, 6102.25files/s]\n",
      "100%|███████████████████████████████████████████████████████████████████████| 10001/10001 [00:01<00:00, 6465.19files/s]\n"
     ]
    },
    {
     "name": "stdout",
     "output_type": "stream",
     "text": [
      "All the data is loaded\n"
     ]
    }
   ],
   "source": [
    "def uncompress_files(file):\n",
    "    features = []\n",
    "    labels = []\n",
    "    with ZipFile(file) as zipf:\n",
    "        filenames_pbar = tqdm(zipf.namelist(), unit='files')\n",
    "        for filename in filenames_pbar:\n",
    "            if not filename.endswith('/'):\n",
    "                with zipf.open(filename) as image_file:\n",
    "                    image = Image.open(image_file)\n",
    "                    image.load()\n",
    "                    feature = np.array(image, dtype=np.float32).flatten()\n",
    "                label = os.path.split(filename)[1][0]\n",
    "                features.append(feature)\n",
    "                labels.append(label)\n",
    "    return np.array(features), np.array(labels)\n",
    "train_features, train_labels = uncompress_files('notMNIST_train.zip')\n",
    "test_features, test_labels = uncompress_files('notMNIST_test.zip')    \n",
    "\n",
    "train_features, train_labels = resample(train_features, train_labels, n_samples = 150000)\n",
    "print('All the data is loaded')"
   ]
  },
  {
   "cell_type": "code",
   "execution_count": 3,
   "metadata": {},
   "outputs": [
    {
     "name": "stdout",
     "output_type": "stream",
     "text": [
      "Features are normalized\n"
     ]
    }
   ],
   "source": [
    "def normalize_grayscale(image_data):\n",
    "    a = 0.1\n",
    "    b = 0.9\n",
    "    grayscale_min = 0\n",
    "    grayscale_max = 255\n",
    "    return a + (((image_data - grayscale_min)*(b - a))/(grayscale_max - grayscale_min))\n",
    "\n",
    "train_features = normalize_grayscale(train_features)\n",
    "test_features = normalize_grayscale(test_features)\n",
    "print('Features are normalized')"
   ]
  },
  {
   "cell_type": "code",
   "execution_count": 4,
   "metadata": {},
   "outputs": [
    {
     "name": "stdout",
     "output_type": "stream",
     "text": [
      "Labels are One-Hot Encoded\n"
     ]
    }
   ],
   "source": [
    "encoder = LabelBinarizer()\n",
    "encoder.fit(train_labels)\n",
    "train_labels = encoder.transform(train_labels)\n",
    "test_labels = encoder.transform(test_labels)\n",
    "\n",
    "train_labels = train_labels.astype('float32')\n",
    "test_labels = test_labels.astype('float32')\n",
    "print('Labels are One-Hot Encoded')"
   ]
  },
  {
   "cell_type": "code",
   "execution_count": 5,
   "metadata": {},
   "outputs": [],
   "source": [
    "train_features, valid_features, train_labels, valid_labels = train_test_split(train_features, train_labels, test_size = 0.05, random_state = 0)"
   ]
  },
  {
   "cell_type": "code",
   "execution_count": 6,
   "metadata": {},
   "outputs": [
    {
     "name": "stdout",
     "output_type": "stream",
     "text": [
      "Data cached in pickle file.\n"
     ]
    }
   ],
   "source": [
    "# Saving the data for easy access\n",
    "pickle_file = 'notMNIST.pickle'\n",
    "if not os.path.isfile(pickle_file):\n",
    "    print('Saving data to pickle file ...')\n",
    "    try:\n",
    "        with open('notMNIST.pickle', 'wb') as pfile:\n",
    "            pickle.dump({\n",
    "                'train_features': train_features,\n",
    "                'train_labels': train_labels,\n",
    "                'valid_features': valid_features,\n",
    "                'valid_labels': valid_labels,\n",
    "                'test_features': test_features,\n",
    "                'test_labels': test_labels\n",
    "                \n",
    "            }, pfile, pickle.HIGHEST_PROTOCOL)\n",
    "    except Exception as e:\n",
    "        print('Unable to save data to', pickle_file, ':', e)\n",
    "        raise\n",
    "print('Data cached in pickle file.')"
   ]
  },
  {
   "cell_type": "code",
   "execution_count": 7,
   "metadata": {},
   "outputs": [
    {
     "name": "stdout",
     "output_type": "stream",
     "text": [
      "Data successfully loaded\n"
     ]
    }
   ],
   "source": [
    "# Reloading the data\n",
    "pickle_file = 'notMNIST.pickle'\n",
    "with open(pickle_file, 'rb') as f:\n",
    "    pickle_data = pickle.load(f)\n",
    "    train_features = pickle_data['train_features']\n",
    "    train_labels = pickle_data['train_labels']\n",
    "    valid_features = pickle_data['valid_features']\n",
    "    valid_labels = pickle_data['valid_labels']\n",
    "    test_features = pickle_data['test_features']\n",
    "    test_labels = pickle_data['test_labels']\n",
    "    del pickle_data\n",
    "print('Data successfully loaded')"
   ]
  },
  {
   "cell_type": "code",
   "execution_count": 8,
   "metadata": {},
   "outputs": [
    {
     "name": "stdout",
     "output_type": "stream",
     "text": [
      "Test Case Passed\n"
     ]
    }
   ],
   "source": [
    "features_count = 784\n",
    "labels_count = 10\n",
    "features = tf.placeholder(tf.float32)\n",
    "labels = tf.placeholder(tf.float32)\n",
    "weights = tf.Variable(tf.truncated_normal((features_count, labels_count)))\n",
    "biases = tf.Variable(tf.zeros(labels_count))\n",
    "\n",
    "train_feed_dict = {features: train_features, labels: train_labels}\n",
    "valid_feed_dict = {features: valid_features, labels: valid_labels}\n",
    "test_feed_dict = {features: test_features, labels: test_labels}\n",
    "\n",
    "# Linear Function WX+b\n",
    "logits = tf.add(tf.matmul(features, weights), biases)\n",
    "\n",
    "predictions = tf.nn.softmax(logits)\n",
    "\n",
    "# Cross Entropy\n",
    "cross_entropy = -tf.reduce_sum(labels*tf.log(predictions), reduction_indices=1)\n",
    "\n",
    "# Training loss\n",
    "loss = tf.reduce_mean(cross_entropy)\n",
    "\n",
    "init = tf.global_variables_initializer()\n",
    "\n",
    "# Test Case\n",
    "with tf.Session() as sess:\n",
    "    sess.run(init)\n",
    "    sess.run(loss, feed_dict=train_feed_dict)\n",
    "    sess.run(loss, feed_dict=valid_feed_dict)    \n",
    "    sess.run(loss, feed_dict=test_feed_dict)\n",
    "    biases_data = sess.run(biases)\n",
    "\n",
    "assert not np.count_nonzero(biases_data), 'biases must be zero'\n",
    "print('Test Case Passed')"
   ]
  },
  {
   "cell_type": "code",
   "execution_count": 9,
   "metadata": {},
   "outputs": [
    {
     "name": "stdout",
     "output_type": "stream",
     "text": [
      "Accurcy function created\n"
     ]
    }
   ],
   "source": [
    "correct_prediction = tf.equal(tf.argmax(predictions, 1), tf.argmax(labels, 1))\n",
    "accuracy = tf.reduce_mean(tf.cast(correct_prediction, tf.float32))\n",
    "print('Accurcy function created')"
   ]
  },
  {
   "cell_type": "code",
   "execution_count": 23,
   "metadata": {},
   "outputs": [
    {
     "name": "stderr",
     "output_type": "stream",
     "text": [
      "\n",
      "\n",
      "\n",
      "Epoch  1/1:   0%|                                                                        | 0/1114 [00:00<?, ?batches/s]\n",
      "\n",
      "\n",
      "Epoch  1/1:   0%|                                                                | 1/1114 [00:00<07:46,  2.39batches/s]\n",
      "\n",
      "\n",
      "Epoch  1/1:   4%|██▊                                                            | 50/1114 [00:00<05:12,  3.40batches/s]\n",
      "\n",
      "\n",
      "Epoch  1/1:   6%|███▋                                                           | 65/1114 [00:00<03:44,  4.68batches/s]\n",
      "\n",
      "\n",
      "Epoch  1/1:   9%|█████▌                                                        | 101/1114 [00:01<02:35,  6.53batches/s]\n",
      "\n",
      "\n",
      "Epoch  1/1:  13%|████████▏                                                     | 148/1114 [00:01<01:44,  9.28batches/s]\n",
      "\n",
      "\n",
      "Epoch  1/1:  15%|█████████▍                                                    | 170/1114 [00:01<01:16, 12.33batches/s]\n",
      "\n",
      "\n",
      "Epoch  1/1:  18%|███████████▏                                                  | 201/1114 [00:02<00:55, 16.38batches/s]\n",
      "\n",
      "\n",
      "Epoch  1/1:  22%|█████████████▊                                                | 249/1114 [00:02<00:37, 23.06batches/s]\n",
      "\n",
      "\n",
      "Epoch  1/1:  25%|███████████████▏                                              | 273/1114 [00:02<00:29, 28.05batches/s]\n",
      "\n",
      "\n",
      "Epoch  1/1:  27%|████████████████▊                                             | 301/1114 [00:03<00:24, 33.67batches/s]\n",
      "\n",
      "\n",
      "Epoch  1/1:  31%|███████████████████▍                                          | 349/1114 [00:03<00:16, 46.69batches/s]\n",
      "\n",
      "\n",
      "Epoch  1/1:  34%|████████████████████▊                                         | 374/1114 [00:03<00:15, 48.70batches/s]\n",
      "\n",
      "\n",
      "Epoch  1/1:  36%|██████████████████████▎                                       | 401/1114 [00:04<00:13, 52.31batches/s]\n",
      "\n",
      "\n",
      "Epoch  1/1:  39%|████████████████████████▍                                     | 439/1114 [00:04<00:09, 70.53batches/s]\n",
      "\n",
      "\n",
      "Epoch  1/1:  41%|█████████████████████████▋                                    | 461/1114 [00:04<00:10, 62.65batches/s]\n",
      "\n",
      "\n",
      "Epoch  1/1:  45%|███████████████████████████▉                                  | 501/1114 [00:05<00:09, 67.83batches/s]\n",
      "\n",
      "\n",
      "Epoch  1/1:  49%|██████████████████████████████▌                               | 549/1114 [00:05<00:06, 91.28batches/s]\n",
      "\n",
      "\n",
      "Epoch  1/1:  52%|███████████████████████████████▉                              | 574/1114 [00:05<00:06, 78.40batches/s]\n",
      "\n",
      "\n",
      "Epoch  1/1:  54%|█████████████████████████████████▍                            | 601/1114 [00:06<00:06, 73.32batches/s]\n",
      "\n",
      "\n",
      "Epoch  1/1:  58%|████████████████████████████████████                          | 649/1114 [00:06<00:04, 98.27batches/s]\n",
      "\n",
      "\n",
      "Epoch  1/1:  61%|█████████████████████████████████████▌                        | 674/1114 [00:06<00:05, 82.79batches/s]\n",
      "\n",
      "\n",
      "Epoch  1/1:  63%|███████████████████████████████████████                       | 701/1114 [00:07<00:05, 76.54batches/s]\n",
      "\n",
      "\n",
      "Epoch  1/1:  67%|█████████████████████████████████████████                    | 749/1114 [00:07<00:03, 102.30batches/s]\n",
      "\n",
      "\n",
      "Epoch  1/1:  70%|███████████████████████████████████████████▏                  | 775/1114 [00:07<00:04, 83.59batches/s]\n",
      "\n",
      "\n",
      "Epoch  1/1:  72%|████████████████████████████████████████████▌                 | 801/1114 [00:08<00:04, 76.11batches/s]\n",
      "\n",
      "\n",
      "Epoch  1/1:  76%|██████████████████████████████████████████████▍              | 849/1114 [00:08<00:02, 101.77batches/s]\n",
      "\n",
      "\n",
      "Epoch  1/1:  79%|████████████████████████████████████████████████▋             | 875/1114 [00:08<00:02, 85.98batches/s]\n",
      "\n",
      "\n",
      "Epoch  1/1:  81%|██████████████████████████████████████████████████▏           | 901/1114 [00:09<00:02, 77.48batches/s]\n",
      "\n",
      "\n",
      "Epoch  1/1:  85%|███████████████████████████████████████████████████▉         | 948/1114 [00:09<00:01, 103.27batches/s]\n",
      "\n",
      "\n",
      "Epoch  1/1:  87%|██████████████████████████████████████████████████████▏       | 973/1114 [00:09<00:01, 85.84batches/s]\n",
      "\n",
      "\n",
      "Epoch  1/1:  90%|██████████████████████████████████████████████████████▊      | 1001/1114 [00:09<00:01, 79.09batches/s]\n",
      "\n",
      "\n",
      "Epoch  1/1:  94%|█████████████████████████████████████████████████████████▌   | 1051/1114 [00:10<00:00, 84.49batches/s]\n",
      "\n",
      "\n",
      "Epoch  1/1:  98%|███████████████████████████████████████████████████████████ | 1096/1114 [00:10<00:00, 111.65batches/s]\n",
      "\n",
      "\n",
      "Epoch  1/1: 100%|████████████████████████████████████████████████████████████| 1114/1114 [00:10<00:00, 101.56batches/s]"
     ]
    },
    {
     "data": {
      "image/png": "[encoded data removed]",
      "text/plain": [
       "<Figure size 432x288 with 2 Axes>"
      ]
     },
     "metadata": {
      "needs_background": "light"
     },
     "output_type": "display_data"
    },
    {
     "name": "stdout",
     "output_type": "stream",
     "text": [
      "Validation accuracy at 0.7377333045005798\n"
     ]
    }
   ],
   "source": [
    "batch_size = 128\n",
    "epochs = 1\n",
    "learning_rate = 0.1\n",
    "\n",
    "# Optimizer\n",
    "optimizer = tf.train.GradientDescentOptimizer(learning_rate).minimize(loss)\n",
    "\n",
    "validation_accuracy = 0.0\n",
    "\n",
    "log_batch_step = 50\n",
    "batches = []\n",
    "loss_batch = []\n",
    "train_acc_batch = []\n",
    "valid_acc_batch = []\n",
    "\n",
    "with tf.Session() as sess:\n",
    "    sess.run(init)\n",
    "    batch_count = int(math.ceil(len(train_features)/batch_size))\n",
    "    \n",
    "    for e in range(epochs):\n",
    "        batches_pbar = tqdm(range(batch_count), desc='Epoch {:>2}/{}'.format(e+1, epochs), unit='batches')\n",
    "        for batch in batches_pbar:\n",
    "            batch_start = batch*batch_size\n",
    "            batch_features = train_features[batch_start:batch_start+batch_size]\n",
    "            batch_labels = train_labels[batch_start:batch_start+batch_size]\n",
    "            _,l = sess.run(\n",
    "                [optimizer, loss],\n",
    "                feed_dict = {features: batch_features, labels: batch_labels})\n",
    "            if not batch % log_batch_step:\n",
    "                train_acc = sess.run(accuracy, feed_dict=train_feed_dict)\n",
    "                valid_acc = sess.run(accuracy, feed_dict=valid_feed_dict)\n",
    "                \n",
    "                # log batches\n",
    "                previous_batch = batches[-1] if batches else 0\n",
    "                batches.append(log_batch_step + previous_batch)\n",
    "                loss_batch.append(l)\n",
    "                train_acc_batch.append(train_acc)\n",
    "                valid_acc_batch.append(valid_acc)\n",
    "        validation_accuracy = sess.run(accuracy, feed_dict=valid_feed_dict)\n",
    "\n",
    "loss_plot = plt.subplot(211)\n",
    "loss_plot.set_title('Loss')\n",
    "loss_plot.plot(batches, loss_batch, 'g')\n",
    "loss_plot.set_xlim(batches[0], batches[-1])\n",
    "acc_plot = plt.subplot(212)\n",
    "acc_plot.set_title('Accuracy')\n",
    "acc_plot.plot(batches, train_acc_batch, 'r', label='Training Accuracy')\n",
    "acc_plot.plot(batches, valid_acc_batch, 'x', label='Validation Accuracy')\n",
    "acc_plot.set_ylim([0, 1.0])\n",
    "acc_plot.set_xlim([batches[0], batches[-1]])\n",
    "acc_plot.legend(loc=4)\n",
    "plt.tight_layout()\n",
    "plt.show()\n",
    "\n",
    "print('Validation accuracy at {}'.format(validation_accuracy))"
   ]
  },
  {
   "cell_type": "code",
   "execution_count": 24,
   "metadata": {},
   "outputs": [
    {
     "name": "stderr",
     "output_type": "stream",
     "text": [
      "\n",
      "\n",
      "\n",
      "Epoch  1/1:   0%|                                                                        | 0/1114 [00:00<?, ?batches/s]\n",
      "\n",
      "\n",
      "Epoch  1/1:   3%|█▊                                                            | 33/1114 [00:00<00:03, 327.63batches/s]\n",
      "\n",
      "\n",
      "Epoch  1/1:   8%|█████▏                                                        | 93/1114 [00:00<00:02, 378.04batches/s]\n",
      "\n",
      "\n",
      "Epoch  1/1:  14%|████████▊                                                    | 161/1114 [00:00<00:02, 435.53batches/s]\n",
      "\n",
      "\n",
      "Epoch  1/1:  20%|████████████▍                                                | 226/1114 [00:00<00:01, 482.59batches/s]\n",
      "\n",
      "\n",
      "Epoch  1/1:  26%|████████████████                                             | 293/1114 [00:00<00:01, 525.89batches/s]\n",
      "\n",
      "\n",
      "Epoch  1/1:  32%|███████████████████▋                                         | 359/1114 [00:00<00:01, 558.99batches/s]\n",
      "\n",
      "\n",
      "Epoch  1/1:  38%|███████████████████████▏                                     | 423/1114 [00:00<00:01, 579.90batches/s]\n",
      "\n",
      "\n",
      "Epoch  1/1:  43%|██████████████████████████▍                                  | 482/1114 [00:00<00:01, 555.42batches/s]\n",
      "\n",
      "\n",
      "Epoch  1/1:  48%|█████████████████████████████▍                               | 538/1114 [00:00<00:01, 549.06batches/s]\n",
      "\n",
      "\n",
      "Epoch  1/1:  53%|████████████████████████████████▌                            | 595/1114 [00:01<00:00, 552.39batches/s]\n",
      "\n",
      "\n",
      "Epoch  1/1:  59%|████████████████████████████████████                         | 658/1114 [00:01<00:00, 572.44batches/s]\n",
      "\n",
      "\n",
      "Epoch  1/1:  65%|███████████████████████████████████████▌                     | 723/1114 [00:01<00:00, 592.51batches/s]\n",
      "\n",
      "\n",
      "Epoch  1/1:  71%|███████████████████████████████████████████▏                 | 789/1114 [00:01<00:00, 610.02batches/s]\n",
      "\n",
      "\n",
      "Epoch  1/1:  77%|██████████████████████████████████████████████▊              | 854/1114 [00:01<00:00, 620.19batches/s]\n",
      "\n",
      "\n",
      "Epoch  1/1:  82%|██████████████████████████████████████████████████▎          | 919/1114 [00:01<00:00, 627.51batches/s]\n",
      "\n",
      "\n",
      "Epoch  1/1:  88%|█████████████████████████████████████████████████████▊       | 983/1114 [00:01<00:00, 604.91batches/s]\n",
      "\n",
      "\n",
      "Epoch  1/1:  94%|████████████████████████████████████████████████████████▏   | 1044/1114 [00:01<00:00, 554.12batches/s]\n",
      "\n",
      "\n",
      "Epoch  1/1:  99%|███████████████████████████████████████████████████████████▎| 1101/1114 [00:01<00:00, 519.58batches/s]\n",
      "\n",
      "\n",
      "Epoch  1/1: 100%|████████████████████████████████████████████████████████████| 1114/1114 [00:01<00:00, 575.17batches/s]"
     ]
    },
    {
     "name": "stdout",
     "output_type": "stream",
     "text": [
      "Nice Job! Test Accuracy is 0.8119000196456909\n"
     ]
    }
   ],
   "source": [
    "test_accuracy = 0.0\n",
    "\n",
    "with tf.Session() as session:\n",
    "    \n",
    "    session.run(init)\n",
    "    batch_count = int(math.ceil(len(train_features)/batch_size))\n",
    "\n",
    "    for epoch_i in range(epochs):\n",
    "        \n",
    "        # Progress bar\n",
    "        batches_pbar = tqdm(range(batch_count), desc='Epoch {:>2}/{}'.format(epoch_i+1, epochs), unit='batches')\n",
    "        \n",
    "        # The training cycle\n",
    "        for batch_i in batches_pbar:\n",
    "            # Get a batch of training features and labels\n",
    "            batch_start = batch_i*batch_size\n",
    "            batch_features = train_features[batch_start:batch_start + batch_size]\n",
    "            batch_labels = train_labels[batch_start:batch_start + batch_size]\n",
    "\n",
    "            # Run optimizer\n",
    "            _ = session.run(optimizer, feed_dict={features: batch_features, labels: batch_labels})\n",
    "\n",
    "        # Check accuracy against Test data\n",
    "        test_accuracy = session.run(accuracy, feed_dict=test_feed_dict)\n",
    "\n",
    "\n",
    "assert test_accuracy >= 0.80, 'Test accuracy at {}, should be equal to or greater than 0.80'.format(test_accuracy)\n",
    "print('Nice Job! Test Accuracy is {}'.format(test_accuracy))"
   ]
  },
  {
   "cell_type": "code",
   "execution_count": null,
   "metadata": {},
   "outputs": [],
   "source": []
  }
 ],
 "metadata": {
  "kernelspec": {
   "display_name": "Python 3",
   "language": "python",
   "name": "python3"
  },
  "language_info": {
   "codemirror_mode": {
    "name": "ipython",
    "version": 3
   },
   "file_extension": ".py",
   "mimetype": "text/x-python",
   "name": "python",
   "nbconvert_exporter": "python",
   "pygments_lexer": "ipython3",
   "version": "3.5.6"
  }
 },
 "nbformat": 4,
 "nbformat_minor": 2
}
